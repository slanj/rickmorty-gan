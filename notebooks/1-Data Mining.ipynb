{
 "cells": [
  {
   "cell_type": "code",
   "execution_count": 1,
   "metadata": {},
   "outputs": [],
   "source": [
    "import requests\n",
    "import time\n",
    "import os\n",
    "from bs4 import BeautifulSoup"
   ]
  },
  {
   "cell_type": "code",
   "execution_count": 2,
   "metadata": {},
   "outputs": [],
   "source": [
    "BASE_URL = 'https://rickandmorty.fandom.com/'\n",
    "SEASON_URLS = [\n",
    "    '/wiki/Category:Season_1_transcripts',\n",
    "    '/wiki/Category:Season_2_transcripts',\n",
    "    '/wiki/Category:Season_3_transcripts'\n",
    "]"
   ]
  },
  {
   "cell_type": "markdown",
   "metadata": {},
   "source": [
    "# Save data in files"
   ]
  },
  {
   "cell_type": "code",
   "execution_count": 3,
   "metadata": {},
   "outputs": [
    {
     "name": "stdout",
     "output_type": "stream",
     "text": [
      "Season url: /wiki/Category:Season_1_transcripts\n",
      "https://rickandmorty.fandom.com//wiki/Anatomy_Park_(episode)/Transcript\n",
      "https://rickandmorty.fandom.com//wiki/Close_Rick-counters_of_the_Rick_Kind/Transcript\n",
      "https://rickandmorty.fandom.com//wiki/Lawnmower_Dog/Transcript\n",
      "https://rickandmorty.fandom.com//wiki/M._Night_Shaym-Aliens!/Transcript\n",
      "https://rickandmorty.fandom.com//wiki/Meeseeks_and_Destroy/Transcript\n",
      "https://rickandmorty.fandom.com//wiki/Pilot/Transcript\n",
      "https://rickandmorty.fandom.com//wiki/Raising_Gazorpazorp/Transcript\n",
      "https://rickandmorty.fandom.com//wiki/Rick_Potion_9/Transcript\n",
      "https://rickandmorty.fandom.com//wiki/Ricksy_Business/Transcript\n",
      "https://rickandmorty.fandom.com//wiki/Rixty_Minutes/Transcript\n",
      "https://rickandmorty.fandom.com//wiki/Something_Ricked_This_Way_Comes/Transcript\n",
      "Season url: /wiki/Category:Season_2_transcripts\n",
      "https://rickandmorty.fandom.com//wiki/A_Rickle_in_Time/Transcript\n",
      "https://rickandmorty.fandom.com//wiki/Auto_Erotic_Assimilation/Transcript\n",
      "https://rickandmorty.fandom.com//wiki/Big_Trouble_in_Little_Sanchez/Transcript\n",
      "https://rickandmorty.fandom.com//wiki/Get_Schwifty/Transcript\n",
      "https://rickandmorty.fandom.com//wiki/Interdimensional_Cable_2:_Tempting_Fate/Transcript\n",
      "https://rickandmorty.fandom.com//wiki/Look_Who%27s_Purging_Now/Transcript\n",
      "https://rickandmorty.fandom.com//wiki/Mortynight_Run/Transcript\n",
      "https://rickandmorty.fandom.com//wiki/The_Ricks_Must_Be_Crazy/Transcript\n",
      "https://rickandmorty.fandom.com//wiki/The_Wedding_Squanchers/Transcript\n",
      "https://rickandmorty.fandom.com//wiki/Total_Rickall/Transcript\n",
      "Season url: /wiki/Category:Season_3_transcripts\n",
      "https://rickandmorty.fandom.com//wiki/Morty%27s_Mind_Blowers/Transcript\n",
      "https://rickandmorty.fandom.com//wiki/Pickle_Rick/Transcript\n",
      "https://rickandmorty.fandom.com//wiki/Rest_and_Ricklaxation/Transcript\n",
      "https://rickandmorty.fandom.com//wiki/Rickmancing_the_Stone/Transcript\n",
      "https://rickandmorty.fandom.com//wiki/Tales_From_the_Citadel/Transcript\n",
      "https://rickandmorty.fandom.com//wiki/The_ABC%27s_of_Beth/Transcript\n",
      "https://rickandmorty.fandom.com//wiki/The_Rickchurian_Mortydate/Transcript\n",
      "https://rickandmorty.fandom.com//wiki/The_Rickshank_Rickdemption/Transcript\n",
      "https://rickandmorty.fandom.com//wiki/The_Whirly_Dirly_Conspiracy/Transcript\n",
      "https://rickandmorty.fandom.com//wiki/Vindicators_3:_The_Return_of_Worldender/Transcript\n"
     ]
    }
   ],
   "source": [
    "for season_url in SEASON_URLS:\n",
    "    print('Season url:', season_url)\n",
    "    response = requests.get(BASE_URL + season_url)\n",
    "    if response.status_code == 200:\n",
    "        bs = BeautifulSoup(response.content)\n",
    "\n",
    "    for a in bs.find_all('a', {'class': 'category-page__member-link'}):\n",
    "        url = \"{}{}\".format(BASE_URL, a['href'])\n",
    "        print(url)\n",
    "        # get transcript page\n",
    "        response = requests.get(url)\n",
    "        if response.status_code == 200:\n",
    "            # get transcript text\n",
    "            bs = BeautifulSoup(response.content)\n",
    "            bscontent = bs.find(\"div\", {'id': 'mw-content-text'})\n",
    "            file = open('../data/{}.txt'.format(a.text.replace('/', '_')), 'w+')\n",
    "            for p in bscontent.find_all('p'):\n",
    "                file.write(p.text)\n",
    "            file.close()\n",
    "        else:\n",
    "            print(\"Response error code {} \".format(response.status_code))"
   ]
  },
  {
   "cell_type": "code",
   "execution_count": null,
   "metadata": {},
   "outputs": [],
   "source": []
  }
 ],
 "metadata": {
  "kernelspec": {
   "display_name": "Python 3",
   "language": "python",
   "name": "python3"
  },
  "language_info": {
   "codemirror_mode": {
    "name": "ipython",
    "version": 3
   },
   "file_extension": ".py",
   "mimetype": "text/x-python",
   "name": "python",
   "nbconvert_exporter": "python",
   "pygments_lexer": "ipython3",
   "version": "3.7.4"
  }
 },
 "nbformat": 4,
 "nbformat_minor": 4
}
