{
 "cells": [
  {
   "cell_type": "code",
   "execution_count": 2,
   "metadata": {},
   "outputs": [],
   "source": [
    "import os\n",
    "os.environ[\"KERAS_BACKEND\"] = \"plaidml.keras.backend\"\n",
    "\n",
    "from keras.models import Sequential\n",
    "from keras.layers import Dense, LSTM\n",
    "from keras.optimizers import RMSprop\n",
    "import numpy as np"
   ]
  },
  {
   "cell_type": "code",
   "execution_count": 23,
   "metadata": {},
   "outputs": [],
   "source": [
    "max_len = 60\n",
    "step = 3\n",
    "sentences = []\n",
    "next_chars = []\n",
    "\n",
    "DATA_DIR = \"../data/\""
   ]
  },
  {
   "cell_type": "code",
   "execution_count": 24,
   "metadata": {},
   "outputs": [],
   "source": [
    "text = \"\"\n",
    "for file in os.listdir(DATA_DIR):\n",
    "    if file.endswith(\".txt\"):\n",
    "        text += open(os.path.join(DATA_DIR, file)).read().lower()"
   ]
  },
  {
   "cell_type": "markdown",
   "metadata": {},
   "source": [
    "- Extrair sentenças de 3 caracteres\n",
    "- Criar nova sentença a cada três caracteres\n",
    "- Obter a sentença extraída\n",
    "- Lista de caracteres únicos\n",
    "- Dicionário que mapeia os caracteres unícos em indices\n",
    "- One-hot encode"
   ]
  },
  {
   "cell_type": "code",
   "execution_count": 25,
   "metadata": {},
   "outputs": [
    {
     "name": "stdout",
     "output_type": "stream",
     "text": [
      "Sequence length:  190435\n"
     ]
    }
   ],
   "source": [
    "for i in range(0, len(text) - max_len, step):\n",
    "    sentences.append(text[i: i + max_len])\n",
    "    next_chars.append(text[i + max_len])\n",
    "    \n",
    "print('Sequence length: ', len(sentences))"
   ]
  },
  {
   "cell_type": "code",
   "execution_count": 26,
   "metadata": {},
   "outputs": [
    {
     "name": "stdout",
     "output_type": "stream",
     "text": [
      "Unique characters:  72\n"
     ]
    }
   ],
   "source": [
    "chars = sorted(list(set(text)))\n",
    "char_indices = dict((char, chars.index(char)) for char in chars)\n",
    "print('Unique characters: ', len(chars))"
   ]
  },
  {
   "cell_type": "code",
   "execution_count": 27,
   "metadata": {},
   "outputs": [],
   "source": [
    "x = np.zeros((len(sentences), max_len, len(chars)), dtype=np.bool)\n",
    "y = np.zeros((len(sentences), len(chars)), dtype=np.bool)"
   ]
  },
  {
   "cell_type": "code",
   "execution_count": 28,
   "metadata": {},
   "outputs": [],
   "source": [
    "for i, sentence in enumerate(sentences):\n",
    "    for t, char in enumerate(sentence):\n",
    "        x[i, t, char_indices[char]] = 1\n",
    "    y[i, char_indices[next_chars[i]]] = 1"
   ]
  },
  {
   "cell_type": "markdown",
   "metadata": {},
   "source": [
    "# Criar a network\n",
    "\n",
    "Utilizaremos um modelo com uma única camada LSTM "
   ]
  },
  {
   "cell_type": "code",
   "execution_count": 36,
   "metadata": {},
   "outputs": [],
   "source": [
    "model = Sequential()\n",
    "model.add(LSTM(128, input_shape=(max_len, len(chars))))\n",
    "model.add(Dense(len(chars), activation='softmax'))"
   ]
  },
  {
   "cell_type": "markdown",
   "metadata": {},
   "source": [
    "Utilizando one-hot encode, utilizaremos a funcao de perca **categorical_crossentropy**"
   ]
  },
  {
   "cell_type": "code",
   "execution_count": 37,
   "metadata": {},
   "outputs": [],
   "source": [
    "model.compile(loss='categorical_crossentropy', optimizer=RMSprop(lr=0.01))"
   ]
  },
  {
   "cell_type": "code",
   "execution_count": 38,
   "metadata": {},
   "outputs": [],
   "source": [
    "def sample(preds, temp=1.0):\n",
    "    preds = np.asarray(preds).astype('float64')\n",
    "    preds = np.log(preds) / temp\n",
    "    exp_preds = np.exp(preds)\n",
    "    preds = exp_preds / np.sum(exp_preds)\n",
    "    probas = np.random.multinomial(1, preds, 1)\n",
    "    return np.argmax(probas)"
   ]
  },
  {
   "cell_type": "code",
   "execution_count": 39,
   "metadata": {},
   "outputs": [
    {
     "name": "stdout",
     "output_type": "stream",
     "text": [
      "Epoch 1/30\n",
      "190435/190435 [==============================] - 153s 805us/step - loss: nan\n",
      "Epoch 2/30\n",
      "190435/190435 [==============================] - 153s 804us/step - loss: nan\n",
      "Epoch 3/30\n",
      "190435/190435 [==============================] - 153s 804us/step - loss: nan\n",
      "Epoch 4/30\n",
      "190435/190435 [==============================] - 153s 804us/step - loss: nan\n",
      "Epoch 5/30\n",
      "190435/190435 [==============================] - 2686s 14ms/step - loss: nan\n",
      "Epoch 6/30\n",
      "190435/190435 [==============================] - 2612s 14ms/step - loss: nan\n",
      "Epoch 7/30\n",
      "190435/190435 [==============================] - 153s 803us/step - loss: nan\n",
      "Epoch 8/30\n",
      "190435/190435 [==============================] - 153s 802us/step - loss: nan\n",
      "Epoch 9/30\n",
      "190435/190435 [==============================] - 153s 802us/step - loss: nan\n",
      "Epoch 10/30\n",
      "190435/190435 [==============================] - 153s 802us/step - loss: nan\n",
      "Epoch 11/30\n",
      "190435/190435 [==============================] - 153s 801us/step - loss: nan\n",
      "Epoch 12/30\n",
      "190435/190435 [==============================] - 152s 799us/step - loss: nan\n",
      "Epoch 13/30\n",
      "190435/190435 [==============================] - 152s 798us/step - loss: nan\n",
      "Epoch 14/30\n",
      "190435/190435 [==============================] - 152s 798us/step - loss: nan\n",
      "Epoch 15/30\n",
      "190435/190435 [==============================] - 152s 798us/step - loss: nan\n",
      "Epoch 16/30\n",
      "190435/190435 [==============================] - 152s 798us/step - loss: nan\n",
      "Epoch 17/30\n",
      "190435/190435 [==============================] - 152s 798us/step - loss: nan\n",
      "Epoch 18/30\n",
      "190435/190435 [==============================] - 152s 798us/step - loss: nan\n",
      "Epoch 19/30\n",
      "190435/190435 [==============================] - 152s 799us/step - loss: nan\n",
      "Epoch 20/30\n",
      "190435/190435 [==============================] - 152s 799us/step - loss: nan\n",
      "Epoch 21/30\n",
      "190435/190435 [==============================] - 152s 798us/step - loss: nan\n",
      "Epoch 22/30\n",
      "190435/190435 [==============================] - 152s 799us/step - loss: nan\n",
      "Epoch 23/30\n",
      "190435/190435 [==============================] - 152s 798us/step - loss: nan\n",
      "Epoch 24/30\n",
      "190435/190435 [==============================] - 152s 799us/step - loss: nan\n",
      "Epoch 25/30\n",
      "190435/190435 [==============================] - 153s 805us/step - loss: nan\n",
      "Epoch 26/30\n",
      "190435/190435 [==============================] - 153s 806us/step - loss: nan\n",
      "Epoch 27/30\n",
      "190435/190435 [==============================] - 154s 807us/step - loss: nan\n",
      "Epoch 28/30\n",
      "190435/190435 [==============================] - 154s 809us/step - loss: nan\n",
      "Epoch 29/30\n",
      "190435/190435 [==============================] - 154s 809us/step - loss: nan\n",
      "Epoch 30/30\n",
      "190435/190435 [==============================] - 154s 810us/step - loss: nan\n"
     ]
    }
   ],
   "source": [
    "import random\n",
    "import sys\n",
    "model.fit(x, y, batch_size=128, epochs=30)\n",
    "model.save('../models/model-1.h5')"
   ]
  }
 ],
 "metadata": {
  "kernelspec": {
   "display_name": "Python [conda env:plaidml]",
   "language": "python",
   "name": "conda-env-plaidml-py"
  },
  "language_info": {
   "codemirror_mode": {
    "name": "ipython",
    "version": 3
   },
   "file_extension": ".py",
   "mimetype": "text/x-python",
   "name": "python",
   "nbconvert_exporter": "python",
   "pygments_lexer": "ipython3",
   "version": "3.7.4"
  }
 },
 "nbformat": 4,
 "nbformat_minor": 4
}
